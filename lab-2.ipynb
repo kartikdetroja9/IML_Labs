{
 "cells": [
  {
   "cell_type": "code",
   "execution_count": 1,
   "id": "7f78f387",
   "metadata": {
    "_cell_guid": "b1076dfc-b9ad-4769-8c92-a6c4dae69d19",
    "_uuid": "8f2839f25d086af736a60e9eeb907d3b93b6e0e5",
    "execution": {
     "iopub.execute_input": "2023-09-01T10:07:20.880560Z",
     "iopub.status.busy": "2023-09-01T10:07:20.880125Z",
     "iopub.status.idle": "2023-09-01T10:07:20.893509Z",
     "shell.execute_reply": "2023-09-01T10:07:20.892123Z"
    },
    "papermill": {
     "duration": 0.023332,
     "end_time": "2023-09-01T10:07:20.897082",
     "exception": false,
     "start_time": "2023-09-01T10:07:20.873750",
     "status": "completed"
    },
    "tags": []
   },
   "outputs": [
    {
     "name": "stdout",
     "output_type": "stream",
     "text": [
      "Hello World\n"
     ]
    }
   ],
   "source": [
    "print(\"Hello World\")"
   ]
  },
  {
   "cell_type": "code",
   "execution_count": null,
   "id": "783b3598",
   "metadata": {
    "papermill": {
     "duration": 0.003767,
     "end_time": "2023-09-01T10:07:20.904975",
     "exception": false,
     "start_time": "2023-09-01T10:07:20.901208",
     "status": "completed"
    },
    "tags": []
   },
   "outputs": [],
   "source": []
  },
  {
   "cell_type": "code",
   "execution_count": null,
   "id": "816f60cc",
   "metadata": {
    "papermill": {
     "duration": 0.00344,
     "end_time": "2023-09-01T10:07:20.912169",
     "exception": false,
     "start_time": "2023-09-01T10:07:20.908729",
     "status": "completed"
    },
    "tags": []
   },
   "outputs": [],
   "source": []
  }
 ],
 "kernelspec": {
  "display_name": "Python 3",
  "language": "python",
  "name": "python3"
 },
 "language_info": {
  "codemirror_mode": {
   "name": "ipython",
   "version": 3
  },
  "file_extension": ".py",
  "mimetype": "text/x-python",
  "name": "python",
  "nbconvert_exporter": "python",
  "pygments_lexer": "ipython3",
  "version": "3.6.4"
 },
 "metadata": {
  "kernelspec": {
   "display_name": "Python 3",
   "language": "python",
   "name": "python3"
  },
  "language_info": {
   "codemirror_mode": {
    "name": "ipython",
    "version": 3
   },
   "file_extension": ".py",
   "mimetype": "text/x-python",
   "name": "python",
   "nbconvert_exporter": "python",
   "pygments_lexer": "ipython3",
   "version": "3.10.12"
  },
  "papermill": {
   "default_parameters": {},
   "duration": 4.215019,
   "end_time": "2023-09-01T10:07:21.335930",
   "environment_variables": {},
   "exception": null,
   "input_path": "__notebook__.ipynb",
   "output_path": "__notebook__.ipynb",
   "parameters": {},
   "start_time": "2023-09-01T10:07:17.120911",
   "version": "2.4.0"
  }
 },
 "nbformat": 4,
 "nbformat_minor": 5
}
